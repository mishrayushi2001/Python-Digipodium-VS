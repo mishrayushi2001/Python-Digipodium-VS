{
 "cells": [
  {
   "cell_type": "code",
   "execution_count": 65,
   "source": [
    "from bs4 import BeautifulSoup\r\n",
    "import requests"
   ],
   "outputs": [],
   "metadata": {}
  },
  {
   "cell_type": "code",
   "execution_count": 66,
   "source": [
    "url = \"https://www.indiatoday.in/top-stories\""
   ],
   "outputs": [],
   "metadata": {}
  },
  {
   "cell_type": "code",
   "execution_count": 67,
   "source": [
    "data = requests.get(url)"
   ],
   "outputs": [],
   "metadata": {}
  },
  {
   "cell_type": "code",
   "execution_count": 68,
   "source": [
    "data.status_code"
   ],
   "outputs": [
    {
     "output_type": "execute_result",
     "data": {
      "text/plain": [
       "200"
      ]
     },
     "metadata": {},
     "execution_count": 68
    }
   ],
   "metadata": {}
  },
  {
   "cell_type": "code",
   "execution_count": 69,
   "source": [
    "soup = BeautifulSoup(data.text)"
   ],
   "outputs": [],
   "metadata": {}
  },
  {
   "cell_type": "code",
   "execution_count": 70,
   "source": [
    "soup.find('h1').text"
   ],
   "outputs": [
    {
     "output_type": "execute_result",
     "data": {
      "text/plain": [
       "'Top Stories'"
      ]
     },
     "metadata": {},
     "execution_count": 70
    }
   ],
   "metadata": {}
  },
  {
   "cell_type": "code",
   "execution_count": 71,
   "source": [
    "rows = soup.findAll('div',{ 'class' : 'catagory-listing'})"
   ],
   "outputs": [],
   "metadata": {}
  },
  {
   "cell_type": "code",
   "execution_count": 72,
   "source": [
    "len(rows)"
   ],
   "outputs": [
    {
     "output_type": "execute_result",
     "data": {
      "text/plain": [
       "12"
      ]
     },
     "metadata": {},
     "execution_count": 72
    }
   ],
   "metadata": {}
  },
  {
   "cell_type": "code",
   "execution_count": 73,
   "source": [
    "for news in rows:\r\n",
    "    print(news.find('img').attrs.get('src'))\r\n",
    "    print(news.find('h2').text)\r\n",
    "    print(news.find('p').text)"
   ],
   "outputs": [
    {
     "output_type": "stream",
     "name": "stdout",
     "text": [
      "https://akm-img-a-in.tosshub.com/indiatoday/images/story/202110/Screenshot_2021-10-01_at_9.36._1200x768.png?hlRITJ__LEmUKpqosYbcbAdVKGgstmEO&size=170:96\n",
      "India reports 26,727 new Covid-19 cases, 277 deaths in last 24 hours\n",
      "India has logged 26,727 new Covid-19 cases and 277 deaths in the last 24\n",
      "hours.\n",
      "https://akm-img-a-in.tosshub.com/indiatoday/images/story/202110/AP21273377500281_1200x768.jpeg?TKSoRwE1.7Anj.v.oNy1jEEHtXpzXlr8&size=170:96\n",
      "Chaos in UK: Pumps dry, medicines disrupted and pig cull fears\n",
      "In a chaotic week where fights broke out at gas stations and people filled up\n",
      "old water bottles with petrol, British ministers have repeatedly said the\n",
      "crisis was easing, though they ordered soldiers on Wednesday to start driving\n",
      "fuel tankers.\n",
      "https://akm-img-a-in.tosshub.com/indiatoday/images/story/202110/Dwayne_Bravo_CSK_1200x768.jpeg?MO_hj2zsPkpozCMF31_vXBM9TmMlJ7Z.&size=170:96\n",
      "IPL 2021: Bravo's bowling at death has been outstanding-CSK coach Fleming\n",
      "IPL 2021: Chennai Super Kings head coach Stephen Fleming said that\n",
      "experienced Dwayne Bravo has provided good competition to Sam Curran for the\n",
      "all-rounder spot in the team.\n",
      "https://akm-img-a-in.tosshub.com/indiatoday/images/story/202110/vnv_1200x768.jpeg?5rgqXbZrzE8ieCQ6gcpSzb4Vqq1N1mTQ&size=170:96\n",
      "Scarlett Johansson and Disney settle lawsuit in Black Widow pay case\n",
      "Scarlett Johansson and Disney have reached a settlement in the Black Widow\n",
      "pay suit. Scarlett had filed for compensation after the studio released the\n",
      "film on OTT at the same time as in theatres.\n",
      "https://akm-img-a-in.tosshub.com/indiatoday/images/story/202110/Jyotika_Udanpirappe_October_14_1200x768.jpeg?geQHEtSvPJWqNEqfbIn0gzMy_2h.siJs&size=170:96\n",
      "Jyotika's Udanpirappe to release on Amazon Prime Video on October 14\n",
      "Jyotika and Sasikumar's upcoming film Udanpirappe will release on Amazon\n",
      "Prime Video on October 14. The film, directed by Era Saravanan, is produced\n",
      "by Suriya's 2D Entertainment.\n",
      "https://akm-img-a-in.tosshub.com/indiatoday/images/story/202110/mumbai_ganesh_pti_2_1200x768.jpeg?BPE6lgnkgxsQI1snP5qgB3n_d9wKAEoC&size=170:96\n",
      "Limited gatherings, smaller idols: BMC issues guidelines for Navratri 2021 celebrations\n",
      "Keeping the Covid-19 situation in mind, BMC has appealed to Mumbai residents\n",
      "to celebrate Navratri 2021 in a simple way like the Ganeshotsav.\n",
      "https://akm-img-a-in.tosshub.com/indiatoday/images/story/202110/navbharat-times_1200x768.jpeg?jsfcMq1Jx.nb7ISWYiFN8TM_FQyPx5pg&size=170:96\n",
      "KBC 13: Big B reveals a TT caught him once for travelling without ticket\n",
      "On the 29th episode of Kaun Banega Crorepati 13, host Amitabh Bachchan\n",
      "revealed that a TT caught him once travelling without ticket. He had to sit\n",
      "on the train's stairs after that.\n",
      "https://akm-img-a-in.tosshub.com/indiatoday/images/story/202110/ganesan_1200x768.png?7yJ6jwhAnK.itb3gcW.iSg1ZFK8xAzto&size=170:96\n",
      "Google Doodle celebrates actor Sivaji Ganesan's 93rd birth anniversary\n",
      "Google celebrated actor Sivaji Ganesan's 93rd birth anniversary with a\n",
      "doodle. Today’s doodle has been illustrated by Bangalore-based guest artist\n",
      "Noopur Rajesh Choksi.\n",
      "https://akm-img-a-in.tosshub.com/indiatoday/images/story/202110/afghan_border_1102021.JPG?TdB0iGqscQmbqm1DpadqfeCPijkNPRZD&size=170:96\n",
      "It's your country, should not leave: Afghans trying to enter Pak stopped by Taliban\n",
      "The new Taliban rulers insist Afghans need to stay and rebuild their\n",
      "conflict-ravaged country. Pakistani counterparts in Chaman are also stopping\n",
      "those attempting to cross.\n",
      "https://akm-img-a-in.tosshub.com/indiatoday/images/story/202110/Screenshot_2021-10-01_at_8.56._1200x768.png?iJWEIZsRLoSzvbGznF3o2xaYsUoXk9eV&size=170:96\n",
      "Priyanka Chopra and Nick Jonas to co-produce Broadway’s Chicken and Biscuits\n",
      "Nick Jonas and Priyanka Chopra have joined a slew of producers to back\n",
      "Douglas Lyons' Broadway comedy, Chicken & Biscuit.\n",
      "https://akm-img-a-in.tosshub.com/indiatoday/images/story/202110/RTX733FS_1200x768.png?8tmfz4V8WYjA8lAHt8AEnldwGA1dAgPi&size=170:96\n",
      "Ashes will go ahead, with or without Root: Australia Test captain Tim Paine\n",
      "Australia captain Tim Paine said the Ashes will go ahead regardless of some\n",
      "England players' reluctance to deal with tough Covid-19 quarantine\n",
      "restrictions.\n",
      "https://akm-img-a-in.tosshub.com/indiatoday/images/story/202110/1.jpg?9Ixuz_Q6pZFkPOwJ7xKeqYKeUwG7jh5t&size=170:96\n",
      "MP: 7 dead, 13 injured in bus-dumper collision in Bhind district\n",
      "At least seven people were killed and 13 others injured in a road accident in\n",
      "Madhya Pradesh's Bhind district.\n"
     ]
    }
   ],
   "metadata": {}
  },
  {
   "cell_type": "code",
   "execution_count": 53,
   "source": [
    "from bs4 import BeautifulSoup\r\n",
    "import requests"
   ],
   "outputs": [],
   "metadata": {}
  },
  {
   "cell_type": "code",
   "execution_count": 54,
   "source": [
    "url = \"https://timesofindia.indiatimes.com/mostread.cms?day=1\"\r\n",
    "data = requests.get(url)\r\n",
    "data.status_code\r\n",
    "allData = BeautifulSoup(data.text)"
   ],
   "outputs": [],
   "metadata": {}
  },
  {
   "cell_type": "code",
   "execution_count": 55,
   "source": [
    "allData.find('h1').text"
   ],
   "outputs": [
    {
     "output_type": "execute_result",
     "data": {
      "text/plain": [
       "'Recent Popular News'"
      ]
     },
     "metadata": {},
     "execution_count": 55
    }
   ],
   "metadata": {}
  },
  {
   "cell_type": "code",
   "execution_count": 56,
   "source": [
    "rows = allData.findAll('div',{ 'class' : 'clearfix'})"
   ],
   "outputs": [],
   "metadata": {}
  },
  {
   "cell_type": "code",
   "execution_count": 57,
   "source": [
    "len(rows)"
   ],
   "outputs": [
    {
     "output_type": "execute_result",
     "data": {
      "text/plain": [
       "8"
      ]
     },
     "metadata": {},
     "execution_count": 57
    }
   ],
   "metadata": {}
  },
  {
   "cell_type": "code",
   "execution_count": 75,
   "source": [
    "for link in soup.find_all('a').attrs={'href': requests.compile(\"^https://\")})\r\n",
    "    print(link.get('href'))"
   ],
   "outputs": [
    {
     "output_type": "error",
     "ename": "SyntaxError",
     "evalue": "invalid syntax (Temp/ipykernel_7640/1296830987.py, line 1)",
     "traceback": [
      "\u001b[1;36m  File \u001b[1;32m\"C:\\Users\\lenovo\\AppData\\Local\\Temp/ipykernel_7640/1296830987.py\"\u001b[1;36m, line \u001b[1;32m1\u001b[0m\n\u001b[1;33m    for link in soup.find_all('a').attrs={'href': requests.compile(\"^https://\")})\u001b[0m\n\u001b[1;37m                                        ^\u001b[0m\n\u001b[1;31mSyntaxError\u001b[0m\u001b[1;31m:\u001b[0m invalid syntax\n"
     ]
    }
   ],
   "metadata": {}
  },
  {
   "cell_type": "code",
   "execution_count": 59,
   "source": [
    "for news in rows:\r\n",
    "    print(news.find('a').attrs.get{'href': re.compile(\"https://)}):\r\n",
    "    print(news.find('art_synopsis').text)"
   ],
   "outputs": [
    {
     "output_type": "error",
     "ename": "SyntaxError",
     "evalue": "invalid syntax (Temp/ipykernel_7640/917541655.py, line 3)",
     "traceback": [
      "\u001b[1;36m  File \u001b[1;32m\"C:\\Users\\lenovo\\AppData\\Local\\Temp/ipykernel_7640/917541655.py\"\u001b[1;36m, line \u001b[1;32m3\u001b[0m\n\u001b[1;33m    print(news.find('a').attrs.get{'href': re.compile(\"https://timesofindia.indiatimes.com/world/china/covid-19-china-vaccine-diplomacy-wavers-as-nations-seek-western-shots/articleshow/86638101.cms\")}):\u001b[0m\n\u001b[1;37m                                  ^\u001b[0m\n\u001b[1;31mSyntaxError\u001b[0m\u001b[1;31m:\u001b[0m invalid syntax\n"
     ]
    }
   ],
   "metadata": {}
  },
  {
   "cell_type": "code",
   "execution_count": 63,
   "source": [
    "for news in rows:\r\n",
    "    print(news.find('img').attrs.get('src'))"
   ],
   "outputs": [
    {
     "output_type": "error",
     "ename": "AttributeError",
     "evalue": "'NoneType' object has no attribute 'attrs'",
     "traceback": [
      "\u001b[1;31m---------------------------------------------------------------------------\u001b[0m",
      "\u001b[1;31mAttributeError\u001b[0m                            Traceback (most recent call last)",
      "\u001b[1;32m~\\AppData\\Local\\Temp/ipykernel_7640/1857464090.py\u001b[0m in \u001b[0;36m<module>\u001b[1;34m\u001b[0m\n\u001b[0;32m      1\u001b[0m \u001b[1;32mfor\u001b[0m \u001b[0mnews\u001b[0m \u001b[1;32min\u001b[0m \u001b[0mrows\u001b[0m\u001b[1;33m:\u001b[0m\u001b[1;33m\u001b[0m\u001b[1;33m\u001b[0m\u001b[0m\n\u001b[1;32m----> 2\u001b[1;33m     \u001b[0mprint\u001b[0m\u001b[1;33m(\u001b[0m\u001b[0mnews\u001b[0m\u001b[1;33m.\u001b[0m\u001b[0mfind\u001b[0m\u001b[1;33m(\u001b[0m\u001b[1;34m'img'\u001b[0m\u001b[1;33m)\u001b[0m\u001b[1;33m.\u001b[0m\u001b[0mattrs\u001b[0m\u001b[1;33m.\u001b[0m\u001b[0mget\u001b[0m\u001b[1;33m(\u001b[0m\u001b[1;34m'src'\u001b[0m\u001b[1;33m)\u001b[0m\u001b[1;33m)\u001b[0m\u001b[1;33m\u001b[0m\u001b[1;33m\u001b[0m\u001b[0m\n\u001b[0m",
      "\u001b[1;31mAttributeError\u001b[0m: 'NoneType' object has no attribute 'attrs'"
     ]
    }
   ],
   "metadata": {}
  },
  {
   "cell_type": "code",
   "execution_count": null,
   "source": [],
   "outputs": [],
   "metadata": {}
  }
 ],
 "metadata": {
  "orig_nbformat": 4,
  "language_info": {
   "name": "python",
   "version": "3.9.7",
   "mimetype": "text/x-python",
   "codemirror_mode": {
    "name": "ipython",
    "version": 3
   },
   "pygments_lexer": "ipython3",
   "nbconvert_exporter": "python",
   "file_extension": ".py"
  },
  "kernelspec": {
   "name": "python3",
   "display_name": "Python 3.9.7 64-bit"
  },
  "interpreter": {
   "hash": "a3949659082f76c3dce9af69e66ef5cf512c1e4dc52678c6ac146f322361f8d5"
  }
 },
 "nbformat": 4,
 "nbformat_minor": 2
}