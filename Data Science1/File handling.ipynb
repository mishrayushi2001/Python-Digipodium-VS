{
 "cells": [
  {
   "cell_type": "code",
   "execution_count": 1,
   "metadata": {},
   "outputs": [
    {
     "name": "stdout",
     "output_type": "stream",
     "text": [
      "import streamlit as st\n",
      "import pandas as pd\n",
      "import plotly.express as px\n",
      "\n",
      "\n",
      "sidebar = st.sidebar\n",
      "\n",
      "sidebar.title(\"Sidebar Title Here\")\n",
      "btn1 = sidebar.button(\"Get Balloons\")\n",
      "\n",
      "if btn1:\n",
      "    st.balloons()\n",
      "\n",
      "st.title(\"Streamlit App\")\n",
      "name = st.text_input(\"Enter your name\")\n",
      "btn = st.button(\"Submit\")\n",
      "\n",
      "if btn:\n",
      "    st.text(f\"You entered name {name}\")\n",
      "\n",
      "\n",
      "st.image('coin.jpg', use_column_width=True)\n",
      "\n",
      "df = pd.read_csv('Pokemon.csv')\n",
      "\n",
      "\n",
      "st.dataframe(df)\n",
      "fig = px.bar(data_frame=df, x='Name', y='Speed', color='Type 1')\n",
      "st.plotly_chart(fig, use_container_width=True)\n"
     ]
    }
   ],
   "source": [
    "with open(\"app.py\") as contents:\n",
    "    print(contents.read())"
   ]
  },
  {
   "cell_type": "code",
   "execution_count": null,
   "metadata": {},
   "outputs": [],
   "source": []
  }
 ],
 "metadata": {
  "interpreter": {
   "hash": "a3949659082f76c3dce9af69e66ef5cf512c1e4dc52678c6ac146f322361f8d5"
  },
  "kernelspec": {
   "display_name": "Python 3.9.7 64-bit",
   "name": "python3"
  },
  "language_info": {
   "codemirror_mode": {
    "name": "ipython",
    "version": 3
   },
   "file_extension": ".py",
   "mimetype": "text/x-python",
   "name": "python",
   "nbconvert_exporter": "python",
   "pygments_lexer": "ipython3",
   "version": "3.9.7"
  },
  "orig_nbformat": 4
 },
 "nbformat": 4,
 "nbformat_minor": 2
}
